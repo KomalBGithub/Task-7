{
 "cells": [
  {
   "cell_type": "code",
   "execution_count": 2,
   "id": "7aff1627-6df8-46b9-a4c7-8859d34dad7a",
   "metadata": {},
   "outputs": [],
   "source": [
    "import sqlite3\n",
    "import pandas as pd\n",
    "import matplotlib.pyplot as plt\n",
    "import os"
   ]
  },
  {
   "cell_type": "code",
   "execution_count": 3,
   "id": "823d32bb-0f1e-46b5-9beb-864d20d7054d",
   "metadata": {},
   "outputs": [
    {
     "name": "stdout",
     "output_type": "stream",
     "text": [
      "Database created and sample data inserted.\n"
     ]
    }
   ],
   "source": [
    "# Step 1: Create and populate the SQLite database\n",
    "db_file = \"sales_data.db\"\n",
    "if not os.path.exists(db_file):\n",
    "    conn = sqlite3.connect(db_file)\n",
    "    cursor = conn.cursor()\n",
    "\n",
    "    # Create Sales Table\n",
    "    cursor.execute('''\n",
    "           CREATE TABLE sales(\n",
    "                id INTEGER PRIMARY KEY,\n",
    "                product TEXT NOT NULL,\n",
    "                quantity INTEGER NOT NULL,\n",
    "                price REAL NOT NULL\n",
    "          )\n",
    "    ''')\n",
    "\n",
    "    # Insert sample sales data\n",
    "    sample_data = [\n",
    "          ('Apple', 10, 0.5),\n",
    "          ('Banana', 5, 0.3),\n",
    "          ('Orange', 8, 0.6),\n",
    "          ('Apple', 15, 0.5),\n",
    "          ('Banana', 7, 0.3),\n",
    "          ('Orange', 10, 0.6),\n",
    "    ]\n",
    "    cursor.executemany('INSERT INTO sales (product, quantity, price) VALUES (?, ?, ?)', sample_data)\n",
    "    conn.commit()\n",
    "    conn.close()\n",
    "    print(\"Database created and sample data inserted.\")\n",
    "else:\n",
    "    print(\"Database already exists.\")\n",
    "    \n",
    "    "
   ]
  },
  {
   "cell_type": "code",
   "execution_count": 4,
   "id": "bad0cd67-dd07-429d-9b6d-67fe4feda08c",
   "metadata": {},
   "outputs": [],
   "source": [
    "# Step 2: Connect to the database \n",
    "conn = sqlite3.connect(db_file)"
   ]
  },
  {
   "cell_type": "code",
   "execution_count": 5,
   "id": "c3b5e85a-a3dd-4d64-ae1d-d632c345dc90",
   "metadata": {},
   "outputs": [],
   "source": [
    "#Step 3 : Run SQL query\n",
    "query = \"\"\"\n",
    "        SELECT \n",
    "             product,\n",
    "             SUM(quantity) AS total_qty,\n",
    "             SUM(quantity * price) AS revenue \n",
    "        FROM sales\n",
    "        GROUP BY product \n",
    "\"\"\"\n",
    "df = pd.read_sql_query(query, conn)"
   ]
  },
  {
   "cell_type": "code",
   "execution_count": 6,
   "id": "b9f5abce-c0b2-4899-86bd-922c41a04616",
   "metadata": {},
   "outputs": [
    {
     "name": "stdout",
     "output_type": "stream",
     "text": [
      "Sales Summary : \n",
      "  product  total_qty  revenue\n",
      "0   Apple         25     12.5\n",
      "1  Banana         12      3.6\n",
      "2  Orange         18     10.8\n"
     ]
    }
   ],
   "source": [
    "# Step 4: Display results\n",
    "print(\"Sales Summary : \")\n",
    "print(df)"
   ]
  },
  {
   "cell_type": "code",
   "execution_count": 7,
   "id": "f4c7dce9-0853-4613-a016-5fe1ffa9644a",
   "metadata": {},
   "outputs": [
    {
     "data": {
      "image/png": "[encoded data removed]",
      "text/plain": [
       "<Figure size 640x480 with 1 Axes>"
      ]
     },
     "metadata": {},
     "output_type": "display_data"
    }
   ],
   "source": [
    "# Step 5 : Plot bar Chart \n",
    "df.plot(kind= 'bar', x='product', y='revenue', legend=False, color='skyblue')\n",
    "plt.title(\"Revenue by Product\")\n",
    "plt.ylabel(\"Revenue ($)\")\n",
    "plt.tight_layout()\n",
    "plt.savefig(\"sales_chart.png\")\n",
    "plt.show()\n"
   ]
  },
  {
   "cell_type": "code",
   "execution_count": 8,
   "id": "d620255b-706d-420f-a90c-c71bac4c1976",
   "metadata": {},
   "outputs": [],
   "source": [
    "# Step 6 : Close the connection\n",
    "conn.close()"
   ]
  },
  {
   "cell_type": "code",
   "execution_count": null,
   "id": "9537f143-8b0a-4bcd-a243-e7f03938b461",
   "metadata": {},
   "outputs": [],
   "source": []
  }
 ],
 "metadata": {
  "kernelspec": {
   "display_name": "Python 3 (ipykernel)",
   "language": "python",
   "name": "python3"
  },
  "language_info": {
   "codemirror_mode": {
    "name": "ipython",
    "version": 3
   },
   "file_extension": ".py",
   "mimetype": "text/x-python",
   "name": "python",
   "nbconvert_exporter": "python",
   "pygments_lexer": "ipython3",
   "version": "3.10.11"
  }
 },
 "nbformat": 4,
 "nbformat_minor": 5
}
